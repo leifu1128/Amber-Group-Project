{
 "cells": [
  {
   "cell_type": "markdown",
   "source": [
    "# Import and Manipulate Data:\n",
    "\n",
    "Stock Data: [Link](https://www.kaggle.com/datasets/kalilurrahman/nasdaq100-stock-price-data?resource=download)\n",
    "Index data was downloaded from Yahoo Finance.\n",
    "\n",
    "The index is the Nasdaq (QQQ) and the individual stocks are the 102 stocks in the Nasdaq index.\n",
    "\n",
    "Note: In the calculation functions (see functions.py) only NumPy is used, but here other functions are used for ease of use."
   ],
   "metadata": {
    "collapsed": false,
    "pycharm": {
     "name": "#%% md\n"
    }
   }
  },
  {
   "cell_type": "code",
   "execution_count": 1,
   "outputs": [],
   "source": [
    "import numpy as np\n",
    "import pandas as pd\n",
    "import timeit\n",
    "import functions as f"
   ],
   "metadata": {
    "collapsed": false,
    "pycharm": {
     "name": "#%%\n"
    }
   }
  },
  {
   "cell_type": "code",
   "execution_count": 2,
   "outputs": [
    {
     "data": {
      "text/plain": "        Date      Open      High       Low     Close  Adj Close     Volume  \\\n0 2010-01-04  7.622500  7.660714  7.585000  7.643214   6.562591  493729600   \n1 2010-01-05  7.664286  7.699643  7.616071  7.656429   6.573935  601904800   \n2 2010-01-06  7.656429  7.686786  7.526786  7.534643   6.469369  552160000   \n3 2010-01-07  7.562500  7.571429  7.466071  7.520714   6.457407  477131200   \n4 2010-01-08  7.510714  7.571429  7.466429  7.570714   6.500339  447610800   \n\n   Name    Return  \n0  AAPL  0.002718  \n1  AAPL -0.001025  \n2  AAPL -0.015906  \n3  AAPL -0.005525  \n4  AAPL  0.007989  ",
      "text/html": "<div>\n<style scoped>\n    .dataframe tbody tr th:only-of-type {\n        vertical-align: middle;\n    }\n\n    .dataframe tbody tr th {\n        vertical-align: top;\n    }\n\n    .dataframe thead th {\n        text-align: right;\n    }\n</style>\n<table border=\"1\" class=\"dataframe\">\n  <thead>\n    <tr style=\"text-align: right;\">\n      <th></th>\n      <th>Date</th>\n      <th>Open</th>\n      <th>High</th>\n      <th>Low</th>\n      <th>Close</th>\n      <th>Adj Close</th>\n      <th>Volume</th>\n      <th>Name</th>\n      <th>Return</th>\n    </tr>\n  </thead>\n  <tbody>\n    <tr>\n      <th>0</th>\n      <td>2010-01-04</td>\n      <td>7.622500</td>\n      <td>7.660714</td>\n      <td>7.585000</td>\n      <td>7.643214</td>\n      <td>6.562591</td>\n      <td>493729600</td>\n      <td>AAPL</td>\n      <td>0.002718</td>\n    </tr>\n    <tr>\n      <th>1</th>\n      <td>2010-01-05</td>\n      <td>7.664286</td>\n      <td>7.699643</td>\n      <td>7.616071</td>\n      <td>7.656429</td>\n      <td>6.573935</td>\n      <td>601904800</td>\n      <td>AAPL</td>\n      <td>-0.001025</td>\n    </tr>\n    <tr>\n      <th>2</th>\n      <td>2010-01-06</td>\n      <td>7.656429</td>\n      <td>7.686786</td>\n      <td>7.526786</td>\n      <td>7.534643</td>\n      <td>6.469369</td>\n      <td>552160000</td>\n      <td>AAPL</td>\n      <td>-0.015906</td>\n    </tr>\n    <tr>\n      <th>3</th>\n      <td>2010-01-07</td>\n      <td>7.562500</td>\n      <td>7.571429</td>\n      <td>7.466071</td>\n      <td>7.520714</td>\n      <td>6.457407</td>\n      <td>477131200</td>\n      <td>AAPL</td>\n      <td>-0.005525</td>\n    </tr>\n    <tr>\n      <th>4</th>\n      <td>2010-01-08</td>\n      <td>7.510714</td>\n      <td>7.571429</td>\n      <td>7.466429</td>\n      <td>7.570714</td>\n      <td>6.500339</td>\n      <td>447610800</td>\n      <td>AAPL</td>\n      <td>0.007989</td>\n    </tr>\n  </tbody>\n</table>\n</div>"
     },
     "execution_count": 2,
     "metadata": {},
     "output_type": "execute_result"
    }
   ],
   "source": [
    "stocks = pd.read_csv('Nasdaq_100.csv', sep='\\t')\n",
    "stocks['Date'] = pd.to_datetime(stocks['Date']).dropna(axis=0)\n",
    "stocks['Return'] = (stocks['Close'] - stocks['Open']) / stocks['Open']\n",
    "stocks.head()"
   ],
   "metadata": {
    "collapsed": false,
    "pycharm": {
     "name": "#%%\n"
    }
   }
  },
  {
   "cell_type": "code",
   "execution_count": 3,
   "outputs": [
    {
     "data": {
      "text/plain": "        Date       Open       High        Low      Close  Adj Close    Volume  \\\n0 2010-01-04  46.330002  46.490002  46.270000  46.419998  41.241234  62822800   \n1 2010-01-05  46.389999  46.500000  46.160000  46.419998  41.241234  62935600   \n2 2010-01-06  46.400002  46.549999  46.070000  46.139999  40.992489  96033000   \n3 2010-01-07  46.209999  46.270000  45.919998  46.169998  41.019131  77094100   \n4 2010-01-08  46.070000  46.549999  45.930000  46.549999  41.356743  88886600   \n\n     Return  \n0  0.001942  \n1  0.000647  \n2 -0.005604  \n3 -0.000866  \n4  0.010419  ",
      "text/html": "<div>\n<style scoped>\n    .dataframe tbody tr th:only-of-type {\n        vertical-align: middle;\n    }\n\n    .dataframe tbody tr th {\n        vertical-align: top;\n    }\n\n    .dataframe thead th {\n        text-align: right;\n    }\n</style>\n<table border=\"1\" class=\"dataframe\">\n  <thead>\n    <tr style=\"text-align: right;\">\n      <th></th>\n      <th>Date</th>\n      <th>Open</th>\n      <th>High</th>\n      <th>Low</th>\n      <th>Close</th>\n      <th>Adj Close</th>\n      <th>Volume</th>\n      <th>Return</th>\n    </tr>\n  </thead>\n  <tbody>\n    <tr>\n      <th>0</th>\n      <td>2010-01-04</td>\n      <td>46.330002</td>\n      <td>46.490002</td>\n      <td>46.270000</td>\n      <td>46.419998</td>\n      <td>41.241234</td>\n      <td>62822800</td>\n      <td>0.001942</td>\n    </tr>\n    <tr>\n      <th>1</th>\n      <td>2010-01-05</td>\n      <td>46.389999</td>\n      <td>46.500000</td>\n      <td>46.160000</td>\n      <td>46.419998</td>\n      <td>41.241234</td>\n      <td>62935600</td>\n      <td>0.000647</td>\n    </tr>\n    <tr>\n      <th>2</th>\n      <td>2010-01-06</td>\n      <td>46.400002</td>\n      <td>46.549999</td>\n      <td>46.070000</td>\n      <td>46.139999</td>\n      <td>40.992489</td>\n      <td>96033000</td>\n      <td>-0.005604</td>\n    </tr>\n    <tr>\n      <th>3</th>\n      <td>2010-01-07</td>\n      <td>46.209999</td>\n      <td>46.270000</td>\n      <td>45.919998</td>\n      <td>46.169998</td>\n      <td>41.019131</td>\n      <td>77094100</td>\n      <td>-0.000866</td>\n    </tr>\n    <tr>\n      <th>4</th>\n      <td>2010-01-08</td>\n      <td>46.070000</td>\n      <td>46.549999</td>\n      <td>45.930000</td>\n      <td>46.549999</td>\n      <td>41.356743</td>\n      <td>88886600</td>\n      <td>0.010419</td>\n    </tr>\n  </tbody>\n</table>\n</div>"
     },
     "execution_count": 3,
     "metadata": {},
     "output_type": "execute_result"
    }
   ],
   "source": [
    "index = pd.read_csv('QQQ.csv')\n",
    "index['Date'] = pd.to_datetime(index['Date'])\n",
    "index['Return'] = (index['Close'] - index['Open']) / index['Open']\n",
    "index.head()"
   ],
   "metadata": {
    "collapsed": false,
    "pycharm": {
     "name": "#%%\n"
    }
   }
  },
  {
   "cell_type": "code",
   "execution_count": 4,
   "outputs": [
    {
     "data": {
      "text/plain": "Date  2019-09-26  2019-09-27  2019-09-30  2019-10-01  2019-10-02  2019-10-03  \\\nName                                                                           \nAAPL   -0.000500   -0.007799    0.013898   -0.002133   -0.018381    0.010942   \nADBE    0.019213   -0.024910   -0.004648   -0.022510   -0.016668    0.020530   \nADI     0.002570   -0.016997   -0.003745   -0.043812   -0.001466    0.018371   \nADP     0.006349   -0.020514    0.003668   -0.011583   -0.014783    0.007547   \nADSK    0.015048   -0.027984    0.013449   -0.018788   -0.007987    0.016858   \n\nDate  2019-10-04  2019-10-07  2019-10-08  2019-10-09  ...  2021-08-26  \\\nName                                                  ...               \nAAPL    0.006072    0.003491   -0.006288    0.000000  ...   -0.005460   \nADBE    0.014097    0.002099   -0.013226    0.002742  ...   -0.001836   \nADI     0.010550   -0.018420   -0.035094    0.002784  ...    0.014303   \nADP     0.006577   -0.000377   -0.007807    0.005202  ...   -0.003321   \nADSK    0.006923    0.010823   -0.003558    0.007127  ...   -0.022100   \n\nDate  2021-08-27  2021-08-30  2021-08-31  2021-09-01  2021-09-02  2021-09-03  \\\nName                                                                           \nAAPL    0.007594    0.027651   -0.005437   -0.002094   -0.001430    0.003512   \nADBE    0.009195    0.009412   -0.006288    0.002077   -0.007733    0.003251   \nADI    -0.004901    0.000060   -0.019260   -0.016242    0.003022   -0.000492   \nADP     0.006503   -0.000096   -0.004002   -0.003084    0.005061    0.014083   \nADSK    0.004487   -0.011201   -0.009708   -0.027453   -0.062088    0.007150   \n\nDate  2021-09-07  2021-09-08  2021-09-09  \nName                                      \nAAPL    0.011099   -0.011912   -0.009132  \nADBE   -0.008931    0.004650   -0.004753  \nADI     0.003750   -0.000244    0.033931  \nADP    -0.022382    0.012138   -0.007814  \nADSK   -0.011350    0.010857   -0.007350  \n\n[5 rows x 493 columns]",
      "text/html": "<div>\n<style scoped>\n    .dataframe tbody tr th:only-of-type {\n        vertical-align: middle;\n    }\n\n    .dataframe tbody tr th {\n        vertical-align: top;\n    }\n\n    .dataframe thead th {\n        text-align: right;\n    }\n</style>\n<table border=\"1\" class=\"dataframe\">\n  <thead>\n    <tr style=\"text-align: right;\">\n      <th>Date</th>\n      <th>2019-09-26</th>\n      <th>2019-09-27</th>\n      <th>2019-09-30</th>\n      <th>2019-10-01</th>\n      <th>2019-10-02</th>\n      <th>2019-10-03</th>\n      <th>2019-10-04</th>\n      <th>2019-10-07</th>\n      <th>2019-10-08</th>\n      <th>2019-10-09</th>\n      <th>...</th>\n      <th>2021-08-26</th>\n      <th>2021-08-27</th>\n      <th>2021-08-30</th>\n      <th>2021-08-31</th>\n      <th>2021-09-01</th>\n      <th>2021-09-02</th>\n      <th>2021-09-03</th>\n      <th>2021-09-07</th>\n      <th>2021-09-08</th>\n      <th>2021-09-09</th>\n    </tr>\n    <tr>\n      <th>Name</th>\n      <th></th>\n      <th></th>\n      <th></th>\n      <th></th>\n      <th></th>\n      <th></th>\n      <th></th>\n      <th></th>\n      <th></th>\n      <th></th>\n      <th></th>\n      <th></th>\n      <th></th>\n      <th></th>\n      <th></th>\n      <th></th>\n      <th></th>\n      <th></th>\n      <th></th>\n      <th></th>\n      <th></th>\n    </tr>\n  </thead>\n  <tbody>\n    <tr>\n      <th>AAPL</th>\n      <td>-0.000500</td>\n      <td>-0.007799</td>\n      <td>0.013898</td>\n      <td>-0.002133</td>\n      <td>-0.018381</td>\n      <td>0.010942</td>\n      <td>0.006072</td>\n      <td>0.003491</td>\n      <td>-0.006288</td>\n      <td>0.000000</td>\n      <td>...</td>\n      <td>-0.005460</td>\n      <td>0.007594</td>\n      <td>0.027651</td>\n      <td>-0.005437</td>\n      <td>-0.002094</td>\n      <td>-0.001430</td>\n      <td>0.003512</td>\n      <td>0.011099</td>\n      <td>-0.011912</td>\n      <td>-0.009132</td>\n    </tr>\n    <tr>\n      <th>ADBE</th>\n      <td>0.019213</td>\n      <td>-0.024910</td>\n      <td>-0.004648</td>\n      <td>-0.022510</td>\n      <td>-0.016668</td>\n      <td>0.020530</td>\n      <td>0.014097</td>\n      <td>0.002099</td>\n      <td>-0.013226</td>\n      <td>0.002742</td>\n      <td>...</td>\n      <td>-0.001836</td>\n      <td>0.009195</td>\n      <td>0.009412</td>\n      <td>-0.006288</td>\n      <td>0.002077</td>\n      <td>-0.007733</td>\n      <td>0.003251</td>\n      <td>-0.008931</td>\n      <td>0.004650</td>\n      <td>-0.004753</td>\n    </tr>\n    <tr>\n      <th>ADI</th>\n      <td>0.002570</td>\n      <td>-0.016997</td>\n      <td>-0.003745</td>\n      <td>-0.043812</td>\n      <td>-0.001466</td>\n      <td>0.018371</td>\n      <td>0.010550</td>\n      <td>-0.018420</td>\n      <td>-0.035094</td>\n      <td>0.002784</td>\n      <td>...</td>\n      <td>0.014303</td>\n      <td>-0.004901</td>\n      <td>0.000060</td>\n      <td>-0.019260</td>\n      <td>-0.016242</td>\n      <td>0.003022</td>\n      <td>-0.000492</td>\n      <td>0.003750</td>\n      <td>-0.000244</td>\n      <td>0.033931</td>\n    </tr>\n    <tr>\n      <th>ADP</th>\n      <td>0.006349</td>\n      <td>-0.020514</td>\n      <td>0.003668</td>\n      <td>-0.011583</td>\n      <td>-0.014783</td>\n      <td>0.007547</td>\n      <td>0.006577</td>\n      <td>-0.000377</td>\n      <td>-0.007807</td>\n      <td>0.005202</td>\n      <td>...</td>\n      <td>-0.003321</td>\n      <td>0.006503</td>\n      <td>-0.000096</td>\n      <td>-0.004002</td>\n      <td>-0.003084</td>\n      <td>0.005061</td>\n      <td>0.014083</td>\n      <td>-0.022382</td>\n      <td>0.012138</td>\n      <td>-0.007814</td>\n    </tr>\n    <tr>\n      <th>ADSK</th>\n      <td>0.015048</td>\n      <td>-0.027984</td>\n      <td>0.013449</td>\n      <td>-0.018788</td>\n      <td>-0.007987</td>\n      <td>0.016858</td>\n      <td>0.006923</td>\n      <td>0.010823</td>\n      <td>-0.003558</td>\n      <td>0.007127</td>\n      <td>...</td>\n      <td>-0.022100</td>\n      <td>0.004487</td>\n      <td>-0.011201</td>\n      <td>-0.009708</td>\n      <td>-0.027453</td>\n      <td>-0.062088</td>\n      <td>0.007150</td>\n      <td>-0.011350</td>\n      <td>0.010857</td>\n      <td>-0.007350</td>\n    </tr>\n  </tbody>\n</table>\n<p>5 rows × 493 columns</p>\n</div>"
     },
     "execution_count": 4,
     "metadata": {},
     "output_type": "execute_result"
    }
   ],
   "source": [
    "stocks = stocks.pivot(columns='Name', index='Date', values='Return')[:-1].dropna(axis=0).swapaxes(\"index\", \"columns\")\n",
    "stock_tickers = stocks.index.values.tolist()\n",
    "stocks.head()"
   ],
   "metadata": {
    "collapsed": false,
    "pycharm": {
     "name": "#%%\n"
    }
   }
  },
  {
   "cell_type": "code",
   "execution_count": 5,
   "outputs": [],
   "source": [
    "index_ar = index['Return'].to_numpy()[-493:]\n",
    "time_vector = index['Date'].to_numpy()[-473:]\n",
    "stocks_ar = stocks.to_numpy()"
   ],
   "metadata": {
    "collapsed": false,
    "pycharm": {
     "name": "#%%\n"
    }
   }
  },
  {
   "cell_type": "markdown",
   "source": [
    "# First Cut Beta Calculation\n",
    "\n",
    "Iterates through each stock, then each time window within the stock to calculate beta using the formula:\n",
    "\n",
    "${\\beta}=\\dfrac{\\sum_{i=1}^{n}\\left(x_{i}-\\bar{x}\\right)\\left(y_{i}-\\bar{y}\\right)}{\\sum_{i=1}^{n}\\left(x_{i}-\\bar{x}\\right)^{2}}$\n",
    "where $x$ is each sample return of the index (QQQ) and $y$ is the sample return of the individual stock, each over the window length $n$.\n",
    "\n",
    "This method is extremely inefficient, taking 1.9745448000030592 seconds."
   ],
   "metadata": {
    "collapsed": false,
    "pycharm": {
     "name": "#%% md\n"
    }
   }
  },
  {
   "cell_type": "code",
   "execution_count": 6,
   "outputs": [
    {
     "name": "stdout",
     "output_type": "stream",
     "text": [
      "Time Taken:  1.9745448000030592\n"
     ]
    }
   ],
   "source": [
    "start = timeit.default_timer()\n",
    "beta_ar = f.calc_beta_naive(20, stocks_ar, index_ar)\n",
    "stop = timeit.default_timer()\n",
    "print('Time Taken: ', stop - start)"
   ],
   "metadata": {
    "collapsed": false,
    "pycharm": {
     "name": "#%%\n"
    }
   }
  },
  {
   "cell_type": "markdown",
   "source": [
    "# Optimized Beta Calculation\n",
    "\n",
    "Selects entire matrix as a sample $Y$, with stock as the columns and each individual sample as a row, resulting in a $(n, 102)$ sized matrix where $n$ is the window length. Selects $X$ as a matrix with first column vector of all ones and second column vector of $n$ samples of index returns, resulting in a $(n, 2)$ matrix. Then uses the formula:\n",
    "$\\hat{\\boldsymbol{\\beta}}=\\left(\\mathbf{X}^{\\top} \\mathbf{X}\\right)^{-\\mathbf{1}} \\mathbf{X}^{\\top} \\mathbf{Y}$ where $\\hat{\\boldsymbol{\\beta}}=\\begin{bmatrix}\\alpha \\\\ \\beta \\end{bmatrix}$ Thus $\\hat{\\boldsymbol{\\beta}}[1]$ is our beta. Iterates over whole array to calculate all beta values.\n",
    "\n",
    "This method is significantly more efficient than the previous only taking 0.05131219999748282 seconds."
   ],
   "metadata": {
    "collapsed": false,
    "pycharm": {
     "name": "#%% md\n"
    }
   }
  },
  {
   "cell_type": "code",
   "execution_count": 7,
   "outputs": [],
   "source": [
    "stocks_ar2 = stocks_ar.swapaxes(0, 1)"
   ],
   "metadata": {
    "collapsed": false,
    "pycharm": {
     "name": "#%%\n"
    }
   }
  },
  {
   "cell_type": "code",
   "execution_count": 8,
   "outputs": [
    {
     "name": "stdout",
     "output_type": "stream",
     "text": [
      "Time Taken:  0.05131219999748282\n"
     ]
    }
   ],
   "source": [
    "start = timeit.default_timer()\n",
    "beta_ar2 = f.calc_beta(20, stocks_ar2, index_ar)\n",
    "stop = timeit.default_timer()\n",
    "print('Time Taken: ', stop - start)"
   ],
   "metadata": {
    "collapsed": false,
    "pycharm": {
     "name": "#%%\n"
    }
   }
  },
  {
   "cell_type": "markdown",
   "source": [
    "# Resulting betas (in order):"
   ],
   "metadata": {
    "collapsed": false,
    "pycharm": {
     "name": "#%% md\n"
    }
   }
  },
  {
   "cell_type": "code",
   "execution_count": 9,
   "outputs": [
    {
     "data": {
      "text/plain": "                AAPL      ADBE       ADI       ADP      ADSK       AEP  \\\nDate                                                                     \n2019-10-24  0.683423  1.499121  1.428348  1.080093  1.162515  0.298545   \n2019-10-25  0.657976  1.589301  1.417874  1.116175  1.231752  0.330161   \n2019-10-28  0.675917  1.504004  1.505396  0.907603  0.986388  0.101581   \n2019-10-29  0.646587  1.522459  1.563432  0.891875  0.933166  0.095068   \n2019-10-30  0.837578  1.414812  1.275584  0.837900  0.870544  0.089044   \n\n                ALGN      AMAT       AMD      AMGN  ...      TSLA       TXN  \\\nDate                                                ...                       \n2019-10-24  0.818730  1.139876  1.000031  0.571063  ... -0.216832  1.032757   \n2019-10-25  0.880601  1.248967  0.989307  0.547117  ... -0.152174  1.020892   \n2019-10-28  0.240352  1.015470  1.049239  0.524939  ...  0.844589  1.029742   \n2019-10-29  0.253630  1.069239  1.099909  0.546256  ...  0.886244  0.948140   \n2019-10-30  0.115909  1.219332  1.217743  0.509717  ...  1.179153  0.933358   \n\n                VRSK      VRSN      VRTX       WBA      WDAY       XEL  \\\nDate                                                                     \n2019-10-24  1.271839  1.549078  1.028796  0.637227  1.745512  0.491763   \n2019-10-25  1.304210  1.609413  1.028594  0.607869  1.850071  0.478759   \n2019-10-28  1.024349  0.908688  0.772672  0.904103  1.720181  0.288491   \n2019-10-29  0.948151  0.909988  0.767613  0.837089  1.654258  0.248027   \n2019-10-30  0.818527  0.821446  0.573677  0.705079  1.819548  0.322450   \n\n                XLNX        ZM  \nDate                            \n2019-10-24  0.709564  1.737399  \n2019-10-25  0.741682  1.823384  \n2019-10-28  0.892279  1.226913  \n2019-10-29  0.865168  1.382549  \n2019-10-30  0.852061  1.468100  \n\n[5 rows x 102 columns]",
      "text/html": "<div>\n<style scoped>\n    .dataframe tbody tr th:only-of-type {\n        vertical-align: middle;\n    }\n\n    .dataframe tbody tr th {\n        vertical-align: top;\n    }\n\n    .dataframe thead th {\n        text-align: right;\n    }\n</style>\n<table border=\"1\" class=\"dataframe\">\n  <thead>\n    <tr style=\"text-align: right;\">\n      <th></th>\n      <th>AAPL</th>\n      <th>ADBE</th>\n      <th>ADI</th>\n      <th>ADP</th>\n      <th>ADSK</th>\n      <th>AEP</th>\n      <th>ALGN</th>\n      <th>AMAT</th>\n      <th>AMD</th>\n      <th>AMGN</th>\n      <th>...</th>\n      <th>TSLA</th>\n      <th>TXN</th>\n      <th>VRSK</th>\n      <th>VRSN</th>\n      <th>VRTX</th>\n      <th>WBA</th>\n      <th>WDAY</th>\n      <th>XEL</th>\n      <th>XLNX</th>\n      <th>ZM</th>\n    </tr>\n    <tr>\n      <th>Date</th>\n      <th></th>\n      <th></th>\n      <th></th>\n      <th></th>\n      <th></th>\n      <th></th>\n      <th></th>\n      <th></th>\n      <th></th>\n      <th></th>\n      <th></th>\n      <th></th>\n      <th></th>\n      <th></th>\n      <th></th>\n      <th></th>\n      <th></th>\n      <th></th>\n      <th></th>\n      <th></th>\n      <th></th>\n    </tr>\n  </thead>\n  <tbody>\n    <tr>\n      <th>2019-10-24</th>\n      <td>0.683423</td>\n      <td>1.499121</td>\n      <td>1.428348</td>\n      <td>1.080093</td>\n      <td>1.162515</td>\n      <td>0.298545</td>\n      <td>0.818730</td>\n      <td>1.139876</td>\n      <td>1.000031</td>\n      <td>0.571063</td>\n      <td>...</td>\n      <td>-0.216832</td>\n      <td>1.032757</td>\n      <td>1.271839</td>\n      <td>1.549078</td>\n      <td>1.028796</td>\n      <td>0.637227</td>\n      <td>1.745512</td>\n      <td>0.491763</td>\n      <td>0.709564</td>\n      <td>1.737399</td>\n    </tr>\n    <tr>\n      <th>2019-10-25</th>\n      <td>0.657976</td>\n      <td>1.589301</td>\n      <td>1.417874</td>\n      <td>1.116175</td>\n      <td>1.231752</td>\n      <td>0.330161</td>\n      <td>0.880601</td>\n      <td>1.248967</td>\n      <td>0.989307</td>\n      <td>0.547117</td>\n      <td>...</td>\n      <td>-0.152174</td>\n      <td>1.020892</td>\n      <td>1.304210</td>\n      <td>1.609413</td>\n      <td>1.028594</td>\n      <td>0.607869</td>\n      <td>1.850071</td>\n      <td>0.478759</td>\n      <td>0.741682</td>\n      <td>1.823384</td>\n    </tr>\n    <tr>\n      <th>2019-10-28</th>\n      <td>0.675917</td>\n      <td>1.504004</td>\n      <td>1.505396</td>\n      <td>0.907603</td>\n      <td>0.986388</td>\n      <td>0.101581</td>\n      <td>0.240352</td>\n      <td>1.015470</td>\n      <td>1.049239</td>\n      <td>0.524939</td>\n      <td>...</td>\n      <td>0.844589</td>\n      <td>1.029742</td>\n      <td>1.024349</td>\n      <td>0.908688</td>\n      <td>0.772672</td>\n      <td>0.904103</td>\n      <td>1.720181</td>\n      <td>0.288491</td>\n      <td>0.892279</td>\n      <td>1.226913</td>\n    </tr>\n    <tr>\n      <th>2019-10-29</th>\n      <td>0.646587</td>\n      <td>1.522459</td>\n      <td>1.563432</td>\n      <td>0.891875</td>\n      <td>0.933166</td>\n      <td>0.095068</td>\n      <td>0.253630</td>\n      <td>1.069239</td>\n      <td>1.099909</td>\n      <td>0.546256</td>\n      <td>...</td>\n      <td>0.886244</td>\n      <td>0.948140</td>\n      <td>0.948151</td>\n      <td>0.909988</td>\n      <td>0.767613</td>\n      <td>0.837089</td>\n      <td>1.654258</td>\n      <td>0.248027</td>\n      <td>0.865168</td>\n      <td>1.382549</td>\n    </tr>\n    <tr>\n      <th>2019-10-30</th>\n      <td>0.837578</td>\n      <td>1.414812</td>\n      <td>1.275584</td>\n      <td>0.837900</td>\n      <td>0.870544</td>\n      <td>0.089044</td>\n      <td>0.115909</td>\n      <td>1.219332</td>\n      <td>1.217743</td>\n      <td>0.509717</td>\n      <td>...</td>\n      <td>1.179153</td>\n      <td>0.933358</td>\n      <td>0.818527</td>\n      <td>0.821446</td>\n      <td>0.573677</td>\n      <td>0.705079</td>\n      <td>1.819548</td>\n      <td>0.322450</td>\n      <td>0.852061</td>\n      <td>1.468100</td>\n    </tr>\n  </tbody>\n</table>\n<p>5 rows × 102 columns</p>\n</div>"
     },
     "execution_count": 9,
     "metadata": {},
     "output_type": "execute_result"
    }
   ],
   "source": [
    "result1 = pd.DataFrame(beta_ar, columns=stock_tickers)\n",
    "result1['Date'] = time_vector\n",
    "result1.set_index('Date', inplace=True)\n",
    "result1.to_csv('result1.csv')\n",
    "result1.head()"
   ],
   "metadata": {
    "collapsed": false,
    "pycharm": {
     "name": "#%%\n"
    }
   }
  },
  {
   "cell_type": "code",
   "execution_count": 10,
   "outputs": [
    {
     "data": {
      "text/plain": "                AAPL      ADBE       ADI       ADP      ADSK       AEP  \\\nDate                                                                     \n2019-10-24  0.683423  1.499121  1.428348  1.080093  1.162515  0.298545   \n2019-10-25  0.657976  1.589301  1.417874  1.116175  1.231752  0.330161   \n2019-10-28  0.675917  1.504004  1.505396  0.907603  0.986388  0.101581   \n2019-10-29  0.646587  1.522459  1.563432  0.891875  0.933166  0.095068   \n2019-10-30  0.837578  1.414812  1.275584  0.837900  0.870544  0.089044   \n\n                ALGN      AMAT       AMD      AMGN  ...      TSLA       TXN  \\\nDate                                                ...                       \n2019-10-24  0.818730  1.139876  1.000031  0.571063  ... -0.216832  1.032757   \n2019-10-25  0.880601  1.248967  0.989307  0.547117  ... -0.152174  1.020892   \n2019-10-28  0.240352  1.015470  1.049239  0.524939  ...  0.844589  1.029742   \n2019-10-29  0.253630  1.069239  1.099909  0.546256  ...  0.886244  0.948140   \n2019-10-30  0.115909  1.219332  1.217743  0.509717  ...  1.179153  0.933358   \n\n                VRSK      VRSN      VRTX       WBA      WDAY       XEL  \\\nDate                                                                     \n2019-10-24  1.271839  1.549078  1.028796  0.637227  1.745512  0.491763   \n2019-10-25  1.304210  1.609413  1.028594  0.607869  1.850071  0.478759   \n2019-10-28  1.024349  0.908688  0.772672  0.904103  1.720181  0.288491   \n2019-10-29  0.948151  0.909988  0.767613  0.837089  1.654258  0.248027   \n2019-10-30  0.818527  0.821446  0.573677  0.705079  1.819548  0.322450   \n\n                XLNX        ZM  \nDate                            \n2019-10-24  0.709564  1.737399  \n2019-10-25  0.741682  1.823384  \n2019-10-28  0.892279  1.226913  \n2019-10-29  0.865168  1.382549  \n2019-10-30  0.852061  1.468100  \n\n[5 rows x 102 columns]",
      "text/html": "<div>\n<style scoped>\n    .dataframe tbody tr th:only-of-type {\n        vertical-align: middle;\n    }\n\n    .dataframe tbody tr th {\n        vertical-align: top;\n    }\n\n    .dataframe thead th {\n        text-align: right;\n    }\n</style>\n<table border=\"1\" class=\"dataframe\">\n  <thead>\n    <tr style=\"text-align: right;\">\n      <th></th>\n      <th>AAPL</th>\n      <th>ADBE</th>\n      <th>ADI</th>\n      <th>ADP</th>\n      <th>ADSK</th>\n      <th>AEP</th>\n      <th>ALGN</th>\n      <th>AMAT</th>\n      <th>AMD</th>\n      <th>AMGN</th>\n      <th>...</th>\n      <th>TSLA</th>\n      <th>TXN</th>\n      <th>VRSK</th>\n      <th>VRSN</th>\n      <th>VRTX</th>\n      <th>WBA</th>\n      <th>WDAY</th>\n      <th>XEL</th>\n      <th>XLNX</th>\n      <th>ZM</th>\n    </tr>\n    <tr>\n      <th>Date</th>\n      <th></th>\n      <th></th>\n      <th></th>\n      <th></th>\n      <th></th>\n      <th></th>\n      <th></th>\n      <th></th>\n      <th></th>\n      <th></th>\n      <th></th>\n      <th></th>\n      <th></th>\n      <th></th>\n      <th></th>\n      <th></th>\n      <th></th>\n      <th></th>\n      <th></th>\n      <th></th>\n      <th></th>\n    </tr>\n  </thead>\n  <tbody>\n    <tr>\n      <th>2019-10-24</th>\n      <td>0.683423</td>\n      <td>1.499121</td>\n      <td>1.428348</td>\n      <td>1.080093</td>\n      <td>1.162515</td>\n      <td>0.298545</td>\n      <td>0.818730</td>\n      <td>1.139876</td>\n      <td>1.000031</td>\n      <td>0.571063</td>\n      <td>...</td>\n      <td>-0.216832</td>\n      <td>1.032757</td>\n      <td>1.271839</td>\n      <td>1.549078</td>\n      <td>1.028796</td>\n      <td>0.637227</td>\n      <td>1.745512</td>\n      <td>0.491763</td>\n      <td>0.709564</td>\n      <td>1.737399</td>\n    </tr>\n    <tr>\n      <th>2019-10-25</th>\n      <td>0.657976</td>\n      <td>1.589301</td>\n      <td>1.417874</td>\n      <td>1.116175</td>\n      <td>1.231752</td>\n      <td>0.330161</td>\n      <td>0.880601</td>\n      <td>1.248967</td>\n      <td>0.989307</td>\n      <td>0.547117</td>\n      <td>...</td>\n      <td>-0.152174</td>\n      <td>1.020892</td>\n      <td>1.304210</td>\n      <td>1.609413</td>\n      <td>1.028594</td>\n      <td>0.607869</td>\n      <td>1.850071</td>\n      <td>0.478759</td>\n      <td>0.741682</td>\n      <td>1.823384</td>\n    </tr>\n    <tr>\n      <th>2019-10-28</th>\n      <td>0.675917</td>\n      <td>1.504004</td>\n      <td>1.505396</td>\n      <td>0.907603</td>\n      <td>0.986388</td>\n      <td>0.101581</td>\n      <td>0.240352</td>\n      <td>1.015470</td>\n      <td>1.049239</td>\n      <td>0.524939</td>\n      <td>...</td>\n      <td>0.844589</td>\n      <td>1.029742</td>\n      <td>1.024349</td>\n      <td>0.908688</td>\n      <td>0.772672</td>\n      <td>0.904103</td>\n      <td>1.720181</td>\n      <td>0.288491</td>\n      <td>0.892279</td>\n      <td>1.226913</td>\n    </tr>\n    <tr>\n      <th>2019-10-29</th>\n      <td>0.646587</td>\n      <td>1.522459</td>\n      <td>1.563432</td>\n      <td>0.891875</td>\n      <td>0.933166</td>\n      <td>0.095068</td>\n      <td>0.253630</td>\n      <td>1.069239</td>\n      <td>1.099909</td>\n      <td>0.546256</td>\n      <td>...</td>\n      <td>0.886244</td>\n      <td>0.948140</td>\n      <td>0.948151</td>\n      <td>0.909988</td>\n      <td>0.767613</td>\n      <td>0.837089</td>\n      <td>1.654258</td>\n      <td>0.248027</td>\n      <td>0.865168</td>\n      <td>1.382549</td>\n    </tr>\n    <tr>\n      <th>2019-10-30</th>\n      <td>0.837578</td>\n      <td>1.414812</td>\n      <td>1.275584</td>\n      <td>0.837900</td>\n      <td>0.870544</td>\n      <td>0.089044</td>\n      <td>0.115909</td>\n      <td>1.219332</td>\n      <td>1.217743</td>\n      <td>0.509717</td>\n      <td>...</td>\n      <td>1.179153</td>\n      <td>0.933358</td>\n      <td>0.818527</td>\n      <td>0.821446</td>\n      <td>0.573677</td>\n      <td>0.705079</td>\n      <td>1.819548</td>\n      <td>0.322450</td>\n      <td>0.852061</td>\n      <td>1.468100</td>\n    </tr>\n  </tbody>\n</table>\n<p>5 rows × 102 columns</p>\n</div>"
     },
     "execution_count": 10,
     "metadata": {},
     "output_type": "execute_result"
    }
   ],
   "source": [
    "result2 = pd.DataFrame(beta_ar2, columns=stock_tickers)\n",
    "result2['Date'] = time_vector\n",
    "result2.set_index('Date', inplace=True)\n",
    "result2.to_csv('result2.csv')\n",
    "result2.head()"
   ],
   "metadata": {
    "collapsed": false,
    "pycharm": {
     "name": "#%%\n"
    }
   }
  }
 ],
 "metadata": {
  "kernelspec": {
   "display_name": "Python 3",
   "language": "python",
   "name": "python3"
  },
  "language_info": {
   "codemirror_mode": {
    "name": "ipython",
    "version": 2
   },
   "file_extension": ".py",
   "mimetype": "text/x-python",
   "name": "python",
   "nbconvert_exporter": "python",
   "pygments_lexer": "ipython2",
   "version": "2.7.6"
  }
 },
 "nbformat": 4,
 "nbformat_minor": 0
}